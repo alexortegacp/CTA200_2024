{
 "cells": [
  {
   "cell_type": "code",
   "execution_count": 5,
   "id": "e374d188",
   "metadata": {},
   "outputs": [],
   "source": [
    "from sympy import *"
   ]
  },
  {
   "cell_type": "markdown",
   "id": "e9690ead",
   "metadata": {},
   "source": [
    "# Question 1"
   ]
  },
  {
   "cell_type": "code",
   "execution_count": 6,
   "id": "9d6d8ec8",
   "metadata": {},
   "outputs": [],
   "source": [
    "def f (x): \n",
    "    \"\"\"This function calculates x**3 - x**2 -1\n",
    "    \n",
    "    Parameters:\n",
    "    ----------\n",
    "    x : array-like int or float\n",
    "        Value at which function is going to be evaluated..\n",
    "    \n",
    "    Returns\n",
    "    -------\n",
    "    f(x)\n",
    "        The result of evaluating the function f at desired x.\n",
    "    \"\"\"\n",
    "    \n",
    "    \n",
    "    return x**3-x**2-1\n",
    "\n"
   ]
  },
  {
   "cell_type": "code",
   "execution_count": 7,
   "id": "42beeadc",
   "metadata": {},
   "outputs": [],
   "source": [
    "def df(x):\n",
    "    \"\"\"This function calculates 3x**2 - 2x\n",
    "    \n",
    "    Parameters:\n",
    "    ----------\n",
    "    x : array-like int or float\n",
    "        Value at which function is going to be evaluated..\n",
    "    \n",
    "    Returns\n",
    "    -------\n",
    "    df(x)/dx\n",
    "        The result of evaluating the function df/dx at desired x.\n",
    "    \"\"\"\n",
    "    \n",
    "    return 3.*x**2 -2.*x"
   ]
  },
  {
   "cell_type": "markdown",
   "id": "d05d1b27",
   "metadata": {},
   "source": [
    "# Question 2"
   ]
  },
  {
   "cell_type": "code",
   "execution_count": 8,
   "id": "d9665613",
   "metadata": {},
   "outputs": [],
   "source": [
    "import math\n",
    "def newton(f, df, x0, epsilon=1e-6, max_iter=30):\n",
    "    \"\"\"This function performs netwon algorithm for root finding at a strating point x0 given a function f\n",
    "    and its derivative df for a certain error epsilon.\n",
    "    \n",
    "    Parameters\n",
    "    ----------\n",
    "    f : function\n",
    "        The function for which the root is desired.\n",
    "    df : function\n",
    "        Derivative of the function specified as f.\n",
    "    x0 : int, float\n",
    "        Initial approximation to root.\n",
    "    epsilon : int or float, optional\n",
    "        Maximum error between approximated root and real one. The default is 1e-6.\n",
    "    max_iter : int, optional\n",
    "        Maximum number of iterations allowed in algorithm to find the root. The default is 30.\n",
    "\n",
    "    Returns\n",
    "    -------\n",
    "    none\n",
    "    \"\"\"\n",
    "        \n",
    "    x = [0] * 30\n",
    "    x[0]=x0\n",
    "    for i in range(29):\n",
    "        if (abs(f(x[i])) < epsilon):\n",
    "            print(f\"Found root in ¡{i+1}? iterations\")\n",
    "            return\n",
    "        \n",
    "        x[i+1] = x[i] -f(x[i])/df(x[i])\n",
    "        \n",
    "        \n",
    "    \n",
    "    print(\"Iteration failed\")\n",
    "    return\n",
    "    \n",
    "    \n",
    "        \n",
    "    "
   ]
  },
  {
   "cell_type": "markdown",
   "id": "4260bdba",
   "metadata": {},
   "source": [
    "# Question 3"
   ]
  },
  {
   "cell_type": "code",
   "execution_count": 13,
   "id": "1eed118f",
   "metadata": {},
   "outputs": [
    {
     "name": "stdout",
     "output_type": "stream",
     "text": [
      "Found root in ¡4? iterations\n"
     ]
    }
   ],
   "source": [
    "newton(f,df, x0=1.4)"
   ]
  },
  {
   "cell_type": "code",
   "execution_count": 14,
   "id": "75c28a99",
   "metadata": {},
   "outputs": [
    {
     "name": "stdout",
     "output_type": "stream",
     "text": [
      "Iteration failed\n"
     ]
    }
   ],
   "source": [
    "newton(f,df, x0=10000000000)"
   ]
  },
  {
   "cell_type": "code",
   "execution_count": 15,
   "id": "65c0664c",
   "metadata": {},
   "outputs": [
    {
     "name": "stdout",
     "output_type": "stream",
     "text": [
      "Iteration failed\n"
     ]
    }
   ],
   "source": [
    "newton(f,df, x0=100000)"
   ]
  },
  {
   "cell_type": "code",
   "execution_count": 16,
   "id": "1d0f6118",
   "metadata": {},
   "outputs": [
    {
     "name": "stdout",
     "output_type": "stream",
     "text": [
      "Found root in ¡21? iterations\n"
     ]
    }
   ],
   "source": [
    "newton(f,df, x0=1000)"
   ]
  },
  {
   "cell_type": "code",
   "execution_count": 17,
   "id": "4944fff0",
   "metadata": {},
   "outputs": [
    {
     "name": "stdout",
     "output_type": "stream",
     "text": [
      "Found root in ¡4? iterations\n"
     ]
    }
   ],
   "source": [
    "newton(f,df, x0=1.4, epsilon=1e-8) # No changes in number of iterations"
   ]
  },
  {
   "cell_type": "code",
   "execution_count": 18,
   "id": "b62363f7",
   "metadata": {},
   "outputs": [
    {
     "name": "stdout",
     "output_type": "stream",
     "text": [
      "Found root in ¡5? iterations\n"
     ]
    }
   ],
   "source": [
    "newton(f,df, x0=2)"
   ]
  },
  {
   "cell_type": "code",
   "execution_count": 19,
   "id": "466316a1",
   "metadata": {},
   "outputs": [
    {
     "name": "stdout",
     "output_type": "stream",
     "text": [
      "Found root in ¡6? iterations\n"
     ]
    }
   ],
   "source": [
    "newton(f,df, x0=2, epsilon=1e-8)"
   ]
  },
  {
   "cell_type": "code",
   "execution_count": 20,
   "id": "76794c5a",
   "metadata": {},
   "outputs": [
    {
     "name": "stdout",
     "output_type": "stream",
     "text": [
      "Found root in ¡9? iterations\n"
     ]
    }
   ],
   "source": [
    "newton(f,df, x0=8)"
   ]
  },
  {
   "cell_type": "code",
   "execution_count": 21,
   "id": "bea15c1d",
   "metadata": {},
   "outputs": [
    {
     "name": "stdout",
     "output_type": "stream",
     "text": [
      "Found root in ¡10? iterations\n"
     ]
    }
   ],
   "source": [
    "newton(f,df, x0=8, epsilon=1e-8)"
   ]
  },
  {
   "cell_type": "code",
   "execution_count": 22,
   "id": "222715f6",
   "metadata": {},
   "outputs": [
    {
     "name": "stdout",
     "output_type": "stream",
     "text": [
      "Found root in ¡8? iterations\n"
     ]
    }
   ],
   "source": [
    "newton(f,df, x0=5)"
   ]
  },
  {
   "cell_type": "code",
   "execution_count": 23,
   "id": "d9037616",
   "metadata": {},
   "outputs": [
    {
     "name": "stdout",
     "output_type": "stream",
     "text": [
      "Found root in ¡9? iterations\n"
     ]
    }
   ],
   "source": [
    "newton(f,df, x0=5, epsilon=1e-8)"
   ]
  },
  {
   "cell_type": "code",
   "execution_count": 24,
   "id": "0196054f",
   "metadata": {},
   "outputs": [
    {
     "name": "stdout",
     "output_type": "stream",
     "text": [
      "Found root in ¡12? iterations\n"
     ]
    }
   ],
   "source": [
    "newton(f,df, x0=20)"
   ]
  },
  {
   "cell_type": "code",
   "execution_count": 25,
   "id": "34415f67",
   "metadata": {},
   "outputs": [
    {
     "name": "stdout",
     "output_type": "stream",
     "text": [
      "Found root in ¡12? iterations\n"
     ]
    }
   ],
   "source": [
    "newton(f,df, x0=20, epsilon=1e-8)"
   ]
  },
  {
   "cell_type": "code",
   "execution_count": 26,
   "id": "9c913ec7",
   "metadata": {},
   "outputs": [
    {
     "name": "stdout",
     "output_type": "stream",
     "text": [
      "Found root in ¡15? iterations\n"
     ]
    }
   ],
   "source": [
    "newton(f,df, x0=-20)"
   ]
  },
  {
   "cell_type": "code",
   "execution_count": 27,
   "id": "584cf381",
   "metadata": {},
   "outputs": [
    {
     "name": "stdout",
     "output_type": "stream",
     "text": [
      "Found root in ¡16? iterations\n"
     ]
    }
   ],
   "source": [
    "newton(f,df, x0=-20, epsilon=1e-8)"
   ]
  },
  {
   "cell_type": "code",
   "execution_count": 28,
   "id": "c1606e99",
   "metadata": {},
   "outputs": [
    {
     "name": "stdout",
     "output_type": "stream",
     "text": [
      "Found root in ¡18? iterations\n"
     ]
    }
   ],
   "source": [
    "newton(f,df, x0=300)"
   ]
  },
  {
   "cell_type": "code",
   "execution_count": 29,
   "id": "523f8e12",
   "metadata": {},
   "outputs": [
    {
     "name": "stdout",
     "output_type": "stream",
     "text": [
      "Found root in ¡19? iterations\n"
     ]
    }
   ],
   "source": [
    "newton(f,df, x0=300, epsilon=1e-8)"
   ]
  },
  {
   "cell_type": "code",
   "execution_count": 30,
   "id": "0ee35fb4",
   "metadata": {},
   "outputs": [
    {
     "name": "stdout",
     "output_type": "stream",
     "text": [
      "Iteration failed\n"
     ]
    }
   ],
   "source": [
    "newton(f,df, x0=100000, epsilon=1e-8)"
   ]
  },
  {
   "cell_type": "code",
   "execution_count": 31,
   "id": "8eb89938",
   "metadata": {},
   "outputs": [
    {
     "name": "stdout",
     "output_type": "stream",
     "text": [
      "Found root in ¡29? iterations\n"
     ]
    }
   ],
   "source": [
    "newton(f,df, x0=10000*2)"
   ]
  },
  {
   "cell_type": "code",
   "execution_count": 32,
   "id": "05d25a54",
   "metadata": {},
   "outputs": [
    {
     "name": "stdout",
     "output_type": "stream",
     "text": [
      "Iteration failed\n"
     ]
    }
   ],
   "source": [
    "newton(f,df, x0=10000*3)"
   ]
  },
  {
   "cell_type": "code",
   "execution_count": 33,
   "id": "21edf59b",
   "metadata": {},
   "outputs": [
    {
     "name": "stdout",
     "output_type": "stream",
     "text": [
      "Found root in ¡29? iterations\n"
     ]
    }
   ],
   "source": [
    "newton(f,df, x0=10000*2, epsilon=1e-8)"
   ]
  },
  {
   "cell_type": "code",
   "execution_count": 34,
   "id": "55b2a050",
   "metadata": {},
   "outputs": [
    {
     "name": "stdout",
     "output_type": "stream",
     "text": [
      "Iteration failed\n"
     ]
    }
   ],
   "source": [
    "newton(f,df, x0=10000*3, epsilon=1e-8)"
   ]
  },
  {
   "cell_type": "code",
   "execution_count": 35,
   "id": "09dca751",
   "metadata": {},
   "outputs": [],
   "source": [
    "# In general number of interations seems to increase but only slightly (by one) when precision is reduced to \n",
    "# be 100 times smaller. Despite of that the algorithm still works and seems only to fail in general when x0 is\n",
    "# far from root."
   ]
  },
  {
   "cell_type": "code",
   "execution_count": null,
   "id": "f9c5c137",
   "metadata": {},
   "outputs": [],
   "source": []
  }
 ],
 "metadata": {
  "kernelspec": {
   "display_name": "Python 3 (ipykernel)",
   "language": "python",
   "name": "python3"
  },
  "language_info": {
   "codemirror_mode": {
    "name": "ipython",
    "version": 3
   },
   "file_extension": ".py",
   "mimetype": "text/x-python",
   "name": "python",
   "nbconvert_exporter": "python",
   "pygments_lexer": "ipython3",
   "version": "3.10.2"
  }
 },
 "nbformat": 4,
 "nbformat_minor": 5
}
